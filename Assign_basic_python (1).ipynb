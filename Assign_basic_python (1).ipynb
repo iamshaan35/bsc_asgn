{
 "cells": [
  {
   "cell_type": "code",
   "execution_count": 4,
   "id": "0ece4f46-cb48-40e5-bbea-e8f6fc4c6c4b",
   "metadata": {},
   "outputs": [],
   "source": [
    "#1.Declare two variables, `x` and `y`, and assign them integer values. Swap the values of these variables without using any temporary variable.\n",
    "x=7\n",
    "y=5"
   ]
  },
  {
   "cell_type": "code",
   "execution_count": 5,
   "id": "63130ad1-7732-44c3-ab58-15a6174b99a3",
   "metadata": {},
   "outputs": [
    {
     "data": {
      "text/plain": [
       "7"
      ]
     },
     "execution_count": 5,
     "metadata": {},
     "output_type": "execute_result"
    }
   ],
   "source": [
    "x"
   ]
  },
  {
   "cell_type": "code",
   "execution_count": 6,
   "id": "36e19c43-0940-4bd4-8423-84a633338474",
   "metadata": {},
   "outputs": [
    {
     "data": {
      "text/plain": [
       "5"
      ]
     },
     "execution_count": 6,
     "metadata": {},
     "output_type": "execute_result"
    }
   ],
   "source": [
    "y"
   ]
  },
  {
   "cell_type": "code",
   "execution_count": 7,
   "id": "cbb397fa-d7db-4d47-81b3-91862f00ec47",
   "metadata": {},
   "outputs": [],
   "source": [
    "x,y=5,7"
   ]
  },
  {
   "cell_type": "code",
   "execution_count": 8,
   "id": "6cc01f29-37a3-44d8-9cf4-aaafa3095e32",
   "metadata": {},
   "outputs": [
    {
     "data": {
      "text/plain": [
       "5"
      ]
     },
     "execution_count": 8,
     "metadata": {},
     "output_type": "execute_result"
    }
   ],
   "source": [
    "x"
   ]
  },
  {
   "cell_type": "code",
   "execution_count": 9,
   "id": "72392308-084b-41cb-861b-74e9c76a0d8b",
   "metadata": {},
   "outputs": [
    {
     "data": {
      "text/plain": [
       "7"
      ]
     },
     "execution_count": 9,
     "metadata": {},
     "output_type": "execute_result"
    }
   ],
   "source": [
    "y"
   ]
  },
  {
   "cell_type": "code",
   "execution_count": 35,
   "id": "f3171c03-08ed-47a0-80d4-6d995b9be258",
   "metadata": {},
   "outputs": [
    {
     "name": "stdin",
     "output_type": "stream",
     "text": [
      "Enter the Lenght: 12\n",
      "Enter the Breadth: 24\n"
     ]
    },
    {
     "name": "stdout",
     "output_type": "stream",
     "text": [
      "Area of Rectangle is 288\n"
     ]
    }
   ],
   "source": [
    "'''2. Create a program that calculates the area of a rectangle. Take the length and width as inputs from the user and store them in variables.\n",
    "Calculate anddisplay the area.'''\n",
    "L=int(input('Enter the Lenght:')) #taking input as a integer value from the user\n",
    "B=int(input('Enter the Breadth:'))\n",
    "Ar_rect = L*B #using formula to calculate the area of rectangle\n",
    "print(\"Area of Rectangle is\", Ar_rect)\n",
    "\n"
   ]
  },
  {
   "cell_type": "code",
   "execution_count": 38,
   "id": "89376591-ab29-41ae-9523-e7c04e51d074",
   "metadata": {},
   "outputs": [
    {
     "name": "stdin",
     "output_type": "stream",
     "text": [
      "Enter the temparature in celcius: 29\n"
     ]
    },
    {
     "name": "stdout",
     "output_type": "stream",
     "text": [
      "Temparature in Fahrenheit is 84.2 F\n"
     ]
    }
   ],
   "source": [
    "'''3. Write a Python program that converts temperatures from Celsius to Fahrenheit. Take the temperature in Celsius as input, store it in a variable,\n",
    "convert it to Fahrenheit, and display the result.'''\n",
    "\n",
    "Celsius_Temp=int(input('Enter the temparature in celcius:')) #taking input from user and storing in a variable as Celsius_temp\n",
    "Temp_to_Fahr=((Celsius_Temp*9/5)+32) #using formula to convert the celcius temp into Fahrenheit\n",
    "print('Temparature in Fahrenheit is', Temp_to_Fahr,'F')"
   ]
  },
  {
   "cell_type": "code",
   "execution_count": 14,
   "id": "b592315d-ebe3-4170-8229-c10748c7133f",
   "metadata": {},
   "outputs": [
    {
     "name": "stdin",
     "output_type": "stream",
     "text": [
      "Enter Any String Here: I love Python\n"
     ]
    },
    {
     "name": "stdout",
     "output_type": "stream",
     "text": [
      "Lenght of the string is 13\n"
     ]
    }
   ],
   "source": [
    "'''1. Write a Python program that takes a string as input and prints the length of\n",
    "the string.'''\n",
    "Str1=input('Enter Any String Here:')\n",
    "print('Lenght of the string is', len(Str1))"
   ]
  },
  {
   "cell_type": "code",
   "execution_count": 22,
   "id": "0fb07bfb-a2d1-4d7f-97cd-59392f61685c",
   "metadata": {},
   "outputs": [
    {
     "name": "stdin",
     "output_type": "stream",
     "text": [
      "Enter the String Here: I Love Python\n"
     ]
    },
    {
     "name": "stdout",
     "output_type": "stream",
     "text": [
      "Number of alphabets present in this sentance is 13\n"
     ]
    }
   ],
   "source": [
    "#Second Solution for the above question\n",
    "Str=input('Enter the String Here:') #taking input from user\n",
    "stringlenght=0\n",
    "for i in Str:\n",
    "    stringlenght=stringlenght+1\n",
    "print('Number of alphabets present in this sentance is', stringlenght)"
   ]
  },
  {
   "cell_type": "code",
   "execution_count": 20,
   "id": "3c12893e-42c5-4eb2-8185-93bb8f1c8ce3",
   "metadata": {},
   "outputs": [
    {
     "name": "stdin",
     "output_type": "stream",
     "text": [
      "Enter the String Here: This is my first assignment in DS course.\n"
     ]
    },
    {
     "name": "stdout",
     "output_type": "stream",
     "text": [
      "Number of vowels present in this sentance is 10\n"
     ]
    }
   ],
   "source": [
    "'''2. Create a program that takes a sentence from the user and counts the number\n",
    "of vowels (a, e, i, o, u) in the string.'''\n",
    "\n",
    "Str2=input('Enter the String Here:') #taking input from the user\n",
    "vowels=0\n",
    "#checking whether the condition is matching or not\n",
    "for i in Str2:\n",
    "    if (i=='a'or i=='A'or i=='e'or i=='E'or i=='i'or i=='I'or i=='o'or i=='O'or i=='u'or i=='U'): \n",
    "        vowels=vowels+1\n",
    "print('Number of vowels present in this sentance is', vowels)\n"
   ]
  },
  {
   "cell_type": "code",
   "execution_count": 24,
   "id": "cd91787e-7770-4ed2-b8f7-8ef4a5dbfdae",
   "metadata": {},
   "outputs": [
    {
     "name": "stdout",
     "output_type": "stream",
     "text": [
      "unatnahS si emaN yM\n"
     ]
    }
   ],
   "source": [
    "'''3. Given a string, reverse the order of characters using string slicing and print\n",
    "the reversed string.'''\n",
    "\n",
    "String = 'My Name is Shantanu'\n",
    "RevString = String[::-1] #a_string[start:stop:step], in this start and end is taken infinity and step is -1\n",
    "print(RevString)"
   ]
  },
  {
   "cell_type": "code",
   "execution_count": 28,
   "id": "cb404518-af19-463b-ab4c-fecc3001e8a7",
   "metadata": {},
   "outputs": [
    {
     "name": "stdin",
     "output_type": "stream",
     "text": [
      "Enter the String Here: radar\n"
     ]
    },
    {
     "name": "stdout",
     "output_type": "stream",
     "text": [
      "The entered string is a plaindrome.\n"
     ]
    }
   ],
   "source": [
    "'''4. Write a program that takes a string as input and checks if it is a palindrome\n",
    "(reads the same forwards and backwards).'''\n",
    "\n",
    "Str5=input('Enter the String Here:') #taking input from user\n",
    "RevStr5=Str5[::-1]  #creating a reversed string of the inpput string\n",
    "if Str5==RevStr5: #checking whether the string entered by user is a palindrome\n",
    "    print('The entered string is a plaindrome.')\n",
    "else:\n",
    "    print('The entered string is not a plaindrome.')"
   ]
  },
  {
   "cell_type": "code",
   "execution_count": 34,
   "id": "e6f2096c-f6b0-4685-b1e7-2c87aa9bfb84",
   "metadata": {},
   "outputs": [
    {
     "name": "stdin",
     "output_type": "stream",
     "text": [
      "Enter the String Here: S H A A N\n"
     ]
    },
    {
     "name": "stdout",
     "output_type": "stream",
     "text": [
      "SHAAN\n"
     ]
    }
   ],
   "source": [
    "'''5. Create a program that takes a string as input and removes all the spaces from\n",
    "it. Print the modified string without spaces. '''\n",
    "\n",
    "Str3=input('Enter the String Here:') #taking input from the user\n",
    "ModString = ''\n",
    "for char in Str3:\n",
    "    if char!=' ':\n",
    "        ModString=ModString+char\n",
    "    \n",
    "print(ModString)\n"
   ]
  },
  {
   "cell_type": "code",
   "execution_count": null,
   "id": "03200c5a-4cb8-4b6c-b4c7-c527208fd479",
   "metadata": {},
   "outputs": [],
   "source": []
  }
 ],
 "metadata": {
  "kernelspec": {
   "display_name": "Python 3 (ipykernel)",
   "language": "python",
   "name": "python3"
  },
  "language_info": {
   "codemirror_mode": {
    "name": "ipython",
    "version": 3
   },
   "file_extension": ".py",
   "mimetype": "text/x-python",
   "name": "python",
   "nbconvert_exporter": "python",
   "pygments_lexer": "ipython3",
   "version": "3.10.8"
  }
 },
 "nbformat": 4,
 "nbformat_minor": 5
}
